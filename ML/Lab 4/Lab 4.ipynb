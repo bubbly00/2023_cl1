{
 "cells": [
  {
   "cell_type": "markdown",
   "id": "6ff2d94b",
   "metadata": {},
   "source": [
    "**Problem Statement:**\n",
    "\n",
    "Determining Optimal Clusters in the Iris Dataset Using K-Means Clustering\n",
    "\n",
    "**Background:**\n",
    "\n",
    "The Iris dataset is a well-known dataset in machine learning, consisting of iris flower samples from three species (setosa, versicolor, and virginica) with measurements of sepal length, sepal width, petal length, and petal width. The dataset contains valuable information for understanding clustering techniques.\n",
    "\n",
    "**Objective:**\n",
    "\n",
    "The objective of this project is to perform K-Means clustering on the Iris dataset to group the flowers into clusters based on their features and to determine the optimal number of clusters using the elbow method.\n",
    "\n",
    "**Dataset:**\n",
    "\n",
    "The Iris dataset contains the following attributes:\n",
    "- Sepal Length (cm)\n",
    "- Sepal Width (cm)\n",
    "- Petal Length (cm)\n",
    "- Petal Width (cm)\n",
    "- Species (class label)\n",
    "\n",
    "**Approach:**\n",
    "\n",
    "1. **Data Preparation:**\n",
    "   - Load the Iris dataset from the provided link or from a local source.\n",
    "   - Explore and preprocess the dataset as needed, including handling missing values, if any.\n",
    "\n",
    "2. **K-Means Clustering:**\n",
    "   - Apply the K-Means clustering algorithm to group the iris flowers into clusters.\n",
    "\n",
    "3. **Elbow Method:**\n",
    "   - Use the elbow method to determine the optimal number of clusters.\n",
    "   - The number of clusters at the \"elbow\" point is considered the optimal value for k.\n",
    "\n",
    "**Expected Outcome:**\n",
    "\n",
    "At the end of the project, we will have determined the optimal number of clusters for the Iris dataset using the elbow method. We will also have clustered the iris flowers into groups based on their features. This analysis can be used for further exploration or decision-making regarding the iris species' characteristics."
   ]
  },
  {
   "cell_type": "code",
   "execution_count": 1,
   "id": "5670f444",
   "metadata": {},
   "outputs": [],
   "source": [
    "# Importing the required libraries\n",
    "import pandas as pd\n",
    "import numpy as np\n",
    "import matplotlib.pyplot as plt\n",
    "from sklearn.cluster import KMeans"
   ]
  },
  {
   "cell_type": "code",
   "execution_count": 2,
   "id": "6172e6de",
   "metadata": {},
   "outputs": [],
   "source": [
    "# Loading the Iris dataset\n",
    "data = pd.read_csv(\"Iris.csv\")"
   ]
  },
  {
   "cell_type": "code",
   "execution_count": 3,
   "id": "24fb0693",
   "metadata": {},
   "outputs": [
    {
     "data": {
      "text/html": [
       "<div>\n",
       "<style scoped>\n",
       "    .dataframe tbody tr th:only-of-type {\n",
       "        vertical-align: middle;\n",
       "    }\n",
       "\n",
       "    .dataframe tbody tr th {\n",
       "        vertical-align: top;\n",
       "    }\n",
       "\n",
       "    .dataframe thead th {\n",
       "        text-align: right;\n",
       "    }\n",
       "</style>\n",
       "<table border=\"1\" class=\"dataframe\">\n",
       "  <thead>\n",
       "    <tr style=\"text-align: right;\">\n",
       "      <th></th>\n",
       "      <th>Id</th>\n",
       "      <th>SepalLengthCm</th>\n",
       "      <th>SepalWidthCm</th>\n",
       "      <th>PetalLengthCm</th>\n",
       "      <th>PetalWidthCm</th>\n",
       "      <th>Species</th>\n",
       "    </tr>\n",
       "  </thead>\n",
       "  <tbody>\n",
       "    <tr>\n",
       "      <th>0</th>\n",
       "      <td>1</td>\n",
       "      <td>5.1</td>\n",
       "      <td>3.5</td>\n",
       "      <td>1.4</td>\n",
       "      <td>0.2</td>\n",
       "      <td>Iris-setosa</td>\n",
       "    </tr>\n",
       "    <tr>\n",
       "      <th>1</th>\n",
       "      <td>2</td>\n",
       "      <td>4.9</td>\n",
       "      <td>3.0</td>\n",
       "      <td>1.4</td>\n",
       "      <td>0.2</td>\n",
       "      <td>Iris-setosa</td>\n",
       "    </tr>\n",
       "    <tr>\n",
       "      <th>2</th>\n",
       "      <td>3</td>\n",
       "      <td>4.7</td>\n",
       "      <td>3.2</td>\n",
       "      <td>1.3</td>\n",
       "      <td>0.2</td>\n",
       "      <td>Iris-setosa</td>\n",
       "    </tr>\n",
       "    <tr>\n",
       "      <th>3</th>\n",
       "      <td>4</td>\n",
       "      <td>4.6</td>\n",
       "      <td>3.1</td>\n",
       "      <td>1.5</td>\n",
       "      <td>0.2</td>\n",
       "      <td>Iris-setosa</td>\n",
       "    </tr>\n",
       "    <tr>\n",
       "      <th>4</th>\n",
       "      <td>5</td>\n",
       "      <td>5.0</td>\n",
       "      <td>3.6</td>\n",
       "      <td>1.4</td>\n",
       "      <td>0.2</td>\n",
       "      <td>Iris-setosa</td>\n",
       "    </tr>\n",
       "  </tbody>\n",
       "</table>\n",
       "</div>"
      ],
      "text/plain": [
       "   Id  SepalLengthCm  SepalWidthCm  PetalLengthCm  PetalWidthCm      Species\n",
       "0   1            5.1           3.5            1.4           0.2  Iris-setosa\n",
       "1   2            4.9           3.0            1.4           0.2  Iris-setosa\n",
       "2   3            4.7           3.2            1.3           0.2  Iris-setosa\n",
       "3   4            4.6           3.1            1.5           0.2  Iris-setosa\n",
       "4   5            5.0           3.6            1.4           0.2  Iris-setosa"
      ]
     },
     "execution_count": 3,
     "metadata": {},
     "output_type": "execute_result"
    }
   ],
   "source": [
    "data.head()"
   ]
  },
  {
   "cell_type": "code",
   "execution_count": 4,
   "id": "7b2bdf00",
   "metadata": {},
   "outputs": [
    {
     "data": {
      "text/plain": [
       "Id               0\n",
       "SepalLengthCm    0\n",
       "SepalWidthCm     0\n",
       "PetalLengthCm    0\n",
       "PetalWidthCm     0\n",
       "Species          0\n",
       "dtype: int64"
      ]
     },
     "execution_count": 4,
     "metadata": {},
     "output_type": "execute_result"
    }
   ],
   "source": [
    "data.isnull().sum()"
   ]
  },
  {
   "cell_type": "code",
   "execution_count": 5,
   "id": "c731687f",
   "metadata": {},
   "outputs": [],
   "source": [
    "# Removing the 'Species' column as it's not needed for clustering\n",
    "X = data.drop([\"Species\", \"Id\"], axis=1)"
   ]
  },
  {
   "cell_type": "code",
   "execution_count": 6,
   "id": "d6fc16af",
   "metadata": {},
   "outputs": [],
   "source": [
    "# Initializing an empty list to store the sum of squared distances\n",
    "sse = []\n"
   ]
  },
  {
   "cell_type": "code",
   "execution_count": 7,
   "id": "5d550bc1",
   "metadata": {},
   "outputs": [],
   "source": [
    "# Trying different values of k (number of clusters) from 1 to 10\n",
    "for k in range(1, 11):\n",
    "    kmeans = KMeans(n_clusters=k, random_state=42, n_init=10)\n",
    "    kmeans.fit(X)\n",
    "    sse.append(kmeans.inertia_)\n"
   ]
  },
  {
   "cell_type": "code",
   "execution_count": 8,
   "id": "caaa648b",
   "metadata": {},
   "outputs": [
    {
     "data": {
      "image/png": "[encoded data removed]",
      "text/plain": [
       "<Figure size 800x600 with 1 Axes>"
      ]
     },
     "metadata": {},
     "output_type": "display_data"
    }
   ],
   "source": [
    "# Plotting the sum of squared distances (sse) for each value of k\n",
    "plt.figure(figsize=(8, 6))\n",
    "plt.plot(range(1, 11), sse, marker='o', linestyle='--')\n",
    "plt.title('Elbow Method for Optimal K')\n",
    "plt.xlabel('Number of Clusters (K)')\n",
    "plt.ylabel('Sum of Squared Distances (SSE)')\n",
    "plt.grid(True)\n",
    "plt.show()\n"
   ]
  },
  {
   "cell_type": "code",
   "execution_count": 9,
   "id": "fb9c4653",
   "metadata": {},
   "outputs": [],
   "source": [
    "# Choosing the optimal K based on the elbow plot (e.g., K=3)\n",
    "optimal_k = 3"
   ]
  },
  {
   "cell_type": "code",
   "execution_count": 10,
   "id": "bda972bd",
   "metadata": {},
   "outputs": [],
   "source": [
    "# Performing K-Means clustering with the optimal K\n",
    "kmeans = KMeans(n_clusters=optimal_k, random_state=42, n_init=10)\n",
    "kmeans.fit(X)\n",
    "# Add the cluster labels to the original DataFrame\n",
    "data['Cluster'] = kmeans.labels_"
   ]
  },
  {
   "cell_type": "code",
   "execution_count": 11,
   "id": "d2f4de08",
   "metadata": {},
   "outputs": [
    {
     "name": "stdout",
     "output_type": "stream",
     "text": [
      "Cluster Centers:\n",
      "[[5.9016129  2.7483871  4.39354839 1.43387097]\n",
      " [5.006      3.418      1.464      0.244     ]\n",
      " [6.85       3.07368421 5.74210526 2.07105263]]\n"
     ]
    },
    {
     "data": {
      "text/html": [
       "<div>\n",
       "<style scoped>\n",
       "    .dataframe tbody tr th:only-of-type {\n",
       "        vertical-align: middle;\n",
       "    }\n",
       "\n",
       "    .dataframe tbody tr th {\n",
       "        vertical-align: top;\n",
       "    }\n",
       "\n",
       "    .dataframe thead th {\n",
       "        text-align: right;\n",
       "    }\n",
       "</style>\n",
       "<table border=\"1\" class=\"dataframe\">\n",
       "  <thead>\n",
       "    <tr style=\"text-align: right;\">\n",
       "      <th></th>\n",
       "      <th>Id</th>\n",
       "      <th>SepalLengthCm</th>\n",
       "      <th>SepalWidthCm</th>\n",
       "      <th>PetalLengthCm</th>\n",
       "      <th>PetalWidthCm</th>\n",
       "      <th>Species</th>\n",
       "      <th>Cluster</th>\n",
       "    </tr>\n",
       "  </thead>\n",
       "  <tbody>\n",
       "    <tr>\n",
       "      <th>0</th>\n",
       "      <td>1</td>\n",
       "      <td>5.1</td>\n",
       "      <td>3.5</td>\n",
       "      <td>1.4</td>\n",
       "      <td>0.2</td>\n",
       "      <td>Iris-setosa</td>\n",
       "      <td>1</td>\n",
       "    </tr>\n",
       "    <tr>\n",
       "      <th>1</th>\n",
       "      <td>2</td>\n",
       "      <td>4.9</td>\n",
       "      <td>3.0</td>\n",
       "      <td>1.4</td>\n",
       "      <td>0.2</td>\n",
       "      <td>Iris-setosa</td>\n",
       "      <td>1</td>\n",
       "    </tr>\n",
       "    <tr>\n",
       "      <th>2</th>\n",
       "      <td>3</td>\n",
       "      <td>4.7</td>\n",
       "      <td>3.2</td>\n",
       "      <td>1.3</td>\n",
       "      <td>0.2</td>\n",
       "      <td>Iris-setosa</td>\n",
       "      <td>1</td>\n",
       "    </tr>\n",
       "    <tr>\n",
       "      <th>3</th>\n",
       "      <td>4</td>\n",
       "      <td>4.6</td>\n",
       "      <td>3.1</td>\n",
       "      <td>1.5</td>\n",
       "      <td>0.2</td>\n",
       "      <td>Iris-setosa</td>\n",
       "      <td>1</td>\n",
       "    </tr>\n",
       "    <tr>\n",
       "      <th>4</th>\n",
       "      <td>5</td>\n",
       "      <td>5.0</td>\n",
       "      <td>3.6</td>\n",
       "      <td>1.4</td>\n",
       "      <td>0.2</td>\n",
       "      <td>Iris-setosa</td>\n",
       "      <td>1</td>\n",
       "    </tr>\n",
       "  </tbody>\n",
       "</table>\n",
       "</div>"
      ],
      "text/plain": [
       "   Id  SepalLengthCm  SepalWidthCm  PetalLengthCm  PetalWidthCm      Species  \\\n",
       "0   1            5.1           3.5            1.4           0.2  Iris-setosa   \n",
       "1   2            4.9           3.0            1.4           0.2  Iris-setosa   \n",
       "2   3            4.7           3.2            1.3           0.2  Iris-setosa   \n",
       "3   4            4.6           3.1            1.5           0.2  Iris-setosa   \n",
       "4   5            5.0           3.6            1.4           0.2  Iris-setosa   \n",
       "\n",
       "   Cluster  \n",
       "0        1  \n",
       "1        1  \n",
       "2        1  \n",
       "3        1  \n",
       "4        1  "
      ]
     },
     "execution_count": 11,
     "metadata": {},
     "output_type": "execute_result"
    }
   ],
   "source": [
    "# Printing the cluster centers\n",
    "print(\"Cluster Centers:\")\n",
    "print(kmeans.cluster_centers_)\n",
    "data.head()"
   ]
  },
  {
   "cell_type": "markdown",
   "id": "ad9dd399",
   "metadata": {},
   "source": [
    "The output shows the cluster centers obtained after performing K-Means clustering with three clusters. Each row in the output represents a cluster center, and each column represents a feature or attribute of the data. Let's break down what each column represents:\n",
    "\n",
    "- Column 1: The first column represents the cluster label or identifier. Each cluster center is identified by a unique integer value (0, 1, or 2 in this case) that corresponds to the cluster it represents.\n",
    "\n",
    "- Columns 2 to 5: These columns represent the feature values for each cluster center. Each feature corresponds to one of the four attributes of the Iris dataset: sepal length, sepal width, petal length, and petal width, in that order.\n",
    "\n",
    "Here's an interpretation of the output:\n",
    "\n",
    "- Cluster 0 (First Row):\n",
    "  - Sepal Length (Column 2): The cluster center for this feature is approximately 74.5.\n",
    "  - Sepal Width (Column 3): The cluster center for this feature is approximately 5.922.\n",
    "  - Petal Length (Column 4): The cluster center for this feature is approximately 2.78.\n",
    "  - Petal Width (Column 5): The cluster center for this feature is approximately 4.206.\n",
    "\n",
    "- Cluster 1 (Second Row):\n",
    "  - Sepal Length (Column 2): The cluster center for this feature is approximately 125.0.\n",
    "  - Sepal Width (Column 3): The cluster center for this feature is approximately 6.57058824.\n",
    "  - Petal Length (Column 4): The cluster center for this feature is approximately 2.97058824.\n",
    "  - Petal Width (Column 5): The cluster center for this feature is approximately 5.52352941.\n",
    "\n",
    "- Cluster 2 (Third Row):\n",
    "  - Sepal Length (Column 2): The cluster center for this feature is approximately 25.0.\n",
    "  - Sepal Width (Column 3): The cluster center for this feature is approximately 5.00612245.\n",
    "  - Petal Length (Column 4): The cluster center for this feature is approximately 3.42040816.\n",
    "  - Petal Width (Column 5): The cluster center for this feature is approximately 1.46530612.\n",
    "\n",
    "These cluster centers represent the central tendencies of each cluster in the feature space. In other words, they indicate the average values of the features for the data points within each cluster. For example, in Cluster 0, the average sepal length is 74.5, the average sepal width is 5.922, and so on."
   ]
  },
  {
   "cell_type": "code",
   "execution_count": 12,
   "id": "24a843b6",
   "metadata": {},
   "outputs": [],
   "source": [
    "new_data = pd.DataFrame({\n",
    "    'SepalLengthCm': [5.1, 6.2, 4.9],\n",
    "    'SepalWidthCm': [3.5, 3.4, 3.1],\n",
    "    'PetalLengthCm': [1.4, 5.4, 1.5],\n",
    "    'PetalWidthCm': [0.2, 2.3, 0.2]\n",
    "})"
   ]
  },
  {
   "cell_type": "code",
   "execution_count": 13,
   "id": "fdbfd1f3",
   "metadata": {},
   "outputs": [
    {
     "name": "stdout",
     "output_type": "stream",
     "text": [
      "   SepalLengthCm  SepalWidthCm  PetalLengthCm  PetalWidthCm  Cluster\n",
      "0            5.1           3.5            1.4           0.2        1\n",
      "1            6.2           3.4            5.4           2.3        2\n",
      "2            4.9           3.1            1.5           0.2        1\n"
     ]
    }
   ],
   "source": [
    "new_data['Cluster'] = kmeans.predict(new_data)\n",
    "print(new_data)"
   ]
  },
  {
   "cell_type": "code",
   "execution_count": null,
   "id": "73af813f",
   "metadata": {},
   "outputs": [],
   "source": []
  }
 ],
 "metadata": {
  "kernelspec": {
   "display_name": "Python 3 (ipykernel)",
   "language": "python",
   "name": "python3"
  },
  "language_info": {
   "codemirror_mode": {
    "name": "ipython",
    "version": 3
   },
   "file_extension": ".py",
   "mimetype": "text/x-python",
   "name": "python",
   "nbconvert_exporter": "python",
   "pygments_lexer": "ipython3",
   "version": "3.11.3"
  }
 },
 "nbformat": 4,
 "nbformat_minor": 5
}
