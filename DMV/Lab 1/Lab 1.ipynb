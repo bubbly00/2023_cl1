{
 "cells": [
  {
   "cell_type": "markdown",
   "id": "80225a3a",
   "metadata": {},
   "source": [
    "# Data Loading, Storage and File Formats\n",
    "## Problem Statement: Analyzing Sales Data from Multiple File Formats"
   ]
  },
  {
   "cell_type": "markdown",
   "id": "67d74868",
   "metadata": {},
   "source": [
    "### Generate Sample Data:"
   ]
  },
  {
   "cell_type": "code",
   "execution_count": 1,
   "id": "ef034de1",
   "metadata": {},
   "outputs": [],
   "source": [
    "import pandas as pd\n",
    "import random\n",
    "\n",
    "\n",
    "# Generating sample data in a DataFrame\n",
    "sample_data = pd.DataFrame({\n",
    "    'Date': pd.date_range(start='2023-01-01', periods=100, freq='D'),\n",
    "    'Product': [f'Product {random.randint(1, 5)}' for _ in range(100)],\n",
    "    'Sales': [random.randint(100, 1000) for _ in range(100)]\n",
    "})\n"
   ]
  },
  {
   "cell_type": "markdown",
   "id": "534fd0a4",
   "metadata": {},
   "source": [
    "### Load and Analyze Sample Data:"
   ]
  },
  {
   "cell_type": "code",
   "execution_count": 2,
   "id": "734b390f",
   "metadata": {},
   "outputs": [],
   "source": [
    "sample_data.to_csv(\"sample_sales_data.csv\", index=False)\n",
    "sample_data.to_excel(\"sample_sales_data.xlsx\", index=False)\n",
    "sample_data.to_json(\"sample_sales_data.json\", orient=\"records\")"
   ]
  },
  {
   "cell_type": "code",
   "execution_count": 3,
   "id": "3ddea6f6",
   "metadata": {},
   "outputs": [],
   "source": [
    "csv_data = pd.read_csv(\"sample_sales_data.csv\")\n",
    "excel_data = pd.read_excel(\"sample_sales_data.xlsx\")\n",
    "json_data = pd.read_json(\"sample_sales_data.json\")"
   ]
  },
  {
   "cell_type": "code",
   "execution_count": 4,
   "id": "d52fd958",
   "metadata": {},
   "outputs": [
    {
     "name": "stdout",
     "output_type": "stream",
     "text": [
      "CSV Data\n",
      "         Date    Product  Sales\n",
      "0  2023-01-01  Product 2    819\n",
      "1  2023-01-02  Product 3    639\n",
      "2  2023-01-03  Product 1    673\n",
      "3  2023-01-04  Product 5    556\n",
      "4  2023-01-05  Product 1    920\n",
      "\n",
      "\n",
      "Excel Data\n",
      "        Date    Product  Sales\n",
      "0 2023-01-01  Product 2    819\n",
      "1 2023-01-02  Product 3    639\n",
      "2 2023-01-03  Product 1    673\n",
      "3 2023-01-04  Product 5    556\n",
      "4 2023-01-05  Product 1    920\n",
      "\n",
      "\n",
      "JSON Data\n",
      "        Date    Product  Sales\n",
      "0 2023-01-01  Product 2    819\n",
      "1 2023-01-02  Product 3    639\n",
      "2 2023-01-03  Product 1    673\n",
      "3 2023-01-04  Product 5    556\n",
      "4 2023-01-05  Product 1    920\n"
     ]
    }
   ],
   "source": [
    "print('CSV Data')\n",
    "print(csv_data.head())\n",
    "print('\\n')\n",
    "print('Excel Data')\n",
    "print(excel_data.head())\n",
    "print('\\n')\n",
    "print('JSON Data')\n",
    "print(json_data.head())"
   ]
  },
  {
   "cell_type": "code",
   "execution_count": 5,
   "id": "28f28cb6",
   "metadata": {},
   "outputs": [
    {
     "data": {
      "text/plain": [
       "Date       0\n",
       "Product    0\n",
       "Sales      0\n",
       "dtype: int64"
      ]
     },
     "execution_count": 5,
     "metadata": {},
     "output_type": "execute_result"
    }
   ],
   "source": [
    "csv_data.isnull().sum()"
   ]
  },
  {
   "cell_type": "code",
   "execution_count": 6,
   "id": "269220a4",
   "metadata": {},
   "outputs": [
    {
     "data": {
      "text/plain": [
       "Date       0\n",
       "Product    0\n",
       "Sales      0\n",
       "dtype: int64"
      ]
     },
     "execution_count": 6,
     "metadata": {},
     "output_type": "execute_result"
    }
   ],
   "source": [
    "excel_data.isnull().sum()"
   ]
  },
  {
   "cell_type": "code",
   "execution_count": 7,
   "id": "57ae9a0b",
   "metadata": {},
   "outputs": [
    {
     "data": {
      "text/plain": [
       "Date       0\n",
       "Product    0\n",
       "Sales      0\n",
       "dtype: int64"
      ]
     },
     "execution_count": 7,
     "metadata": {},
     "output_type": "execute_result"
    }
   ],
   "source": [
    "json_data.isnull().sum()"
   ]
  },
  {
   "cell_type": "markdown",
   "id": "012ea914",
   "metadata": {},
   "source": [
    "### Data Cleaning:"
   ]
  },
  {
   "cell_type": "code",
   "execution_count": 8,
   "id": "220d1c0d",
   "metadata": {},
   "outputs": [],
   "source": [
    "def correction_function(value):\n",
    "    # Convert text to uppercase for consistency\n",
    "    return value.upper()"
   ]
  },
  {
   "cell_type": "code",
   "execution_count": 9,
   "id": "693c63e6",
   "metadata": {},
   "outputs": [],
   "source": [
    "# Handling missing values\n",
    "csv_data.dropna(inplace=True)\n",
    "# Removing duplicates\n",
    "csv_data.drop_duplicates(inplace=True)\n",
    "# Correcting inconsistencies\n",
    "csv_data['Product'] = csv_data['Product'].apply(lambda x: correction_function(x))"
   ]
  },
  {
   "cell_type": "code",
   "execution_count": 10,
   "id": "b5d2c15a",
   "metadata": {},
   "outputs": [
    {
     "data": {
      "text/html": [
       "<div>\n",
       "<style scoped>\n",
       "    .dataframe tbody tr th:only-of-type {\n",
       "        vertical-align: middle;\n",
       "    }\n",
       "\n",
       "    .dataframe tbody tr th {\n",
       "        vertical-align: top;\n",
       "    }\n",
       "\n",
       "    .dataframe thead th {\n",
       "        text-align: right;\n",
       "    }\n",
       "</style>\n",
       "<table border=\"1\" class=\"dataframe\">\n",
       "  <thead>\n",
       "    <tr style=\"text-align: right;\">\n",
       "      <th></th>\n",
       "      <th>Date</th>\n",
       "      <th>Product</th>\n",
       "      <th>Sales</th>\n",
       "    </tr>\n",
       "  </thead>\n",
       "  <tbody>\n",
       "    <tr>\n",
       "      <th>0</th>\n",
       "      <td>2023-01-01</td>\n",
       "      <td>PRODUCT 2</td>\n",
       "      <td>819</td>\n",
       "    </tr>\n",
       "    <tr>\n",
       "      <th>1</th>\n",
       "      <td>2023-01-02</td>\n",
       "      <td>PRODUCT 3</td>\n",
       "      <td>639</td>\n",
       "    </tr>\n",
       "    <tr>\n",
       "      <th>2</th>\n",
       "      <td>2023-01-03</td>\n",
       "      <td>PRODUCT 1</td>\n",
       "      <td>673</td>\n",
       "    </tr>\n",
       "    <tr>\n",
       "      <th>3</th>\n",
       "      <td>2023-01-04</td>\n",
       "      <td>PRODUCT 5</td>\n",
       "      <td>556</td>\n",
       "    </tr>\n",
       "    <tr>\n",
       "      <th>4</th>\n",
       "      <td>2023-01-05</td>\n",
       "      <td>PRODUCT 1</td>\n",
       "      <td>920</td>\n",
       "    </tr>\n",
       "  </tbody>\n",
       "</table>\n",
       "</div>"
      ],
      "text/plain": [
       "         Date    Product  Sales\n",
       "0  2023-01-01  PRODUCT 2    819\n",
       "1  2023-01-02  PRODUCT 3    639\n",
       "2  2023-01-03  PRODUCT 1    673\n",
       "3  2023-01-04  PRODUCT 5    556\n",
       "4  2023-01-05  PRODUCT 1    920"
      ]
     },
     "execution_count": 10,
     "metadata": {},
     "output_type": "execute_result"
    }
   ],
   "source": [
    "csv_data.head()"
   ]
  },
  {
   "cell_type": "markdown",
   "id": "6edbbf17",
   "metadata": {},
   "source": [
    "### Convert Data into a Unified Format:"
   ]
  },
  {
   "cell_type": "code",
   "execution_count": 11,
   "id": "47d3443f",
   "metadata": {},
   "outputs": [],
   "source": [
    "combined_df = pd.concat([csv_data, excel_data, json_data], ignore_index=True)"
   ]
  },
  {
   "cell_type": "code",
   "execution_count": 12,
   "id": "92212ad1",
   "metadata": {},
   "outputs": [
    {
     "data": {
      "text/html": [
       "<div>\n",
       "<style scoped>\n",
       "    .dataframe tbody tr th:only-of-type {\n",
       "        vertical-align: middle;\n",
       "    }\n",
       "\n",
       "    .dataframe tbody tr th {\n",
       "        vertical-align: top;\n",
       "    }\n",
       "\n",
       "    .dataframe thead th {\n",
       "        text-align: right;\n",
       "    }\n",
       "</style>\n",
       "<table border=\"1\" class=\"dataframe\">\n",
       "  <thead>\n",
       "    <tr style=\"text-align: right;\">\n",
       "      <th></th>\n",
       "      <th>Date</th>\n",
       "      <th>Product</th>\n",
       "      <th>Sales</th>\n",
       "    </tr>\n",
       "  </thead>\n",
       "  <tbody>\n",
       "    <tr>\n",
       "      <th>0</th>\n",
       "      <td>2023-01-01</td>\n",
       "      <td>PRODUCT 2</td>\n",
       "      <td>819</td>\n",
       "    </tr>\n",
       "    <tr>\n",
       "      <th>1</th>\n",
       "      <td>2023-01-02</td>\n",
       "      <td>PRODUCT 3</td>\n",
       "      <td>639</td>\n",
       "    </tr>\n",
       "    <tr>\n",
       "      <th>2</th>\n",
       "      <td>2023-01-03</td>\n",
       "      <td>PRODUCT 1</td>\n",
       "      <td>673</td>\n",
       "    </tr>\n",
       "    <tr>\n",
       "      <th>3</th>\n",
       "      <td>2023-01-04</td>\n",
       "      <td>PRODUCT 5</td>\n",
       "      <td>556</td>\n",
       "    </tr>\n",
       "    <tr>\n",
       "      <th>4</th>\n",
       "      <td>2023-01-05</td>\n",
       "      <td>PRODUCT 1</td>\n",
       "      <td>920</td>\n",
       "    </tr>\n",
       "  </tbody>\n",
       "</table>\n",
       "</div>"
      ],
      "text/plain": [
       "         Date    Product  Sales\n",
       "0  2023-01-01  PRODUCT 2    819\n",
       "1  2023-01-02  PRODUCT 3    639\n",
       "2  2023-01-03  PRODUCT 1    673\n",
       "3  2023-01-04  PRODUCT 5    556\n",
       "4  2023-01-05  PRODUCT 1    920"
      ]
     },
     "execution_count": 12,
     "metadata": {},
     "output_type": "execute_result"
    }
   ],
   "source": [
    "combined_df.head()"
   ]
  },
  {
   "cell_type": "code",
   "execution_count": 13,
   "id": "f01ed881",
   "metadata": {},
   "outputs": [
    {
     "data": {
      "text/plain": [
       "(300, 3)"
      ]
     },
     "execution_count": 13,
     "metadata": {},
     "output_type": "execute_result"
    }
   ],
   "source": [
    "combined_df.shape"
   ]
  },
  {
   "cell_type": "code",
   "execution_count": 14,
   "id": "02f45154",
   "metadata": {},
   "outputs": [
    {
     "data": {
      "text/html": [
       "<div>\n",
       "<style scoped>\n",
       "    .dataframe tbody tr th:only-of-type {\n",
       "        vertical-align: middle;\n",
       "    }\n",
       "\n",
       "    .dataframe tbody tr th {\n",
       "        vertical-align: top;\n",
       "    }\n",
       "\n",
       "    .dataframe thead th {\n",
       "        text-align: right;\n",
       "    }\n",
       "</style>\n",
       "<table border=\"1\" class=\"dataframe\">\n",
       "  <thead>\n",
       "    <tr style=\"text-align: right;\">\n",
       "      <th></th>\n",
       "      <th>Sales</th>\n",
       "    </tr>\n",
       "  </thead>\n",
       "  <tbody>\n",
       "    <tr>\n",
       "      <th>count</th>\n",
       "      <td>300.000000</td>\n",
       "    </tr>\n",
       "    <tr>\n",
       "      <th>mean</th>\n",
       "      <td>508.610000</td>\n",
       "    </tr>\n",
       "    <tr>\n",
       "      <th>std</th>\n",
       "      <td>276.691438</td>\n",
       "    </tr>\n",
       "    <tr>\n",
       "      <th>min</th>\n",
       "      <td>109.000000</td>\n",
       "    </tr>\n",
       "    <tr>\n",
       "      <th>25%</th>\n",
       "      <td>257.500000</td>\n",
       "    </tr>\n",
       "    <tr>\n",
       "      <th>50%</th>\n",
       "      <td>448.000000</td>\n",
       "    </tr>\n",
       "    <tr>\n",
       "      <th>75%</th>\n",
       "      <td>764.250000</td>\n",
       "    </tr>\n",
       "    <tr>\n",
       "      <th>max</th>\n",
       "      <td>990.000000</td>\n",
       "    </tr>\n",
       "  </tbody>\n",
       "</table>\n",
       "</div>"
      ],
      "text/plain": [
       "            Sales\n",
       "count  300.000000\n",
       "mean   508.610000\n",
       "std    276.691438\n",
       "min    109.000000\n",
       "25%    257.500000\n",
       "50%    448.000000\n",
       "75%    764.250000\n",
       "max    990.000000"
      ]
     },
     "execution_count": 14,
     "metadata": {},
     "output_type": "execute_result"
    }
   ],
   "source": [
    "combined_df.describe()"
   ]
  },
  {
   "cell_type": "code",
   "execution_count": 15,
   "id": "065a14a6",
   "metadata": {},
   "outputs": [
    {
     "name": "stdout",
     "output_type": "stream",
     "text": [
      "<class 'pandas.core.frame.DataFrame'>\n",
      "RangeIndex: 300 entries, 0 to 299\n",
      "Data columns (total 3 columns):\n",
      " #   Column   Non-Null Count  Dtype \n",
      "---  ------   --------------  ----- \n",
      " 0   Date     300 non-null    object\n",
      " 1   Product  300 non-null    object\n",
      " 2   Sales    300 non-null    int64 \n",
      "dtypes: int64(1), object(2)\n",
      "memory usage: 7.2+ KB\n"
     ]
    }
   ],
   "source": [
    "combined_df.info()"
   ]
  },
  {
   "cell_type": "markdown",
   "id": "8b0223fe",
   "metadata": {},
   "source": [
    "### Data Analysis:"
   ]
  },
  {
   "cell_type": "code",
   "execution_count": 16,
   "id": "a8fd9f2d",
   "metadata": {},
   "outputs": [
    {
     "name": "stdout",
     "output_type": "stream",
     "text": [
      "Total sales:  152583\n",
      "\n",
      "\n",
      "Average order value:  508.61\n",
      "\n",
      "\n",
      "Number of products sold:  Product\n",
      "Product 2    48\n",
      "Product 5    44\n",
      "Product 4    44\n",
      "Product 1    40\n",
      "PRODUCT 2    24\n",
      "Product 3    24\n",
      "PRODUCT 5    22\n",
      "PRODUCT 4    22\n",
      "PRODUCT 1    20\n",
      "PRODUCT 3    12\n",
      "Name: count, dtype: int64\n"
     ]
    }
   ],
   "source": [
    "total_sales = combined_df['Sales'].sum()\n",
    "print(\"Total sales: \",total_sales)\n",
    "print('\\n')\n",
    "avg_order_value = combined_df['Sales'].mean()\n",
    "print(\"Average order value: \",avg_order_value)\n",
    "print('\\n')\n",
    "category_distribution = combined_df['Product'].value_counts()\n",
    "print(\"Number of products sold: \", category_distribution)"
   ]
  },
  {
   "cell_type": "markdown",
   "id": "bc312b5e",
   "metadata": {},
   "source": [
    "### Data Visualization:\n",
    "\n"
   ]
  },
  {
   "cell_type": "code",
   "execution_count": 17,
   "id": "f7d47922",
   "metadata": {},
   "outputs": [
    {
     "data": {
      "image/png": "[encoded data removed]",
      "text/plain": [
       "<Figure size 640x480 with 1 Axes>"
      ]
     },
     "metadata": {},
     "output_type": "display_data"
    }
   ],
   "source": [
    "import matplotlib.pyplot as plt\n",
    "\n",
    "# Create a bar plot for product category distribution\n",
    "category_distribution.plot(kind='bar')\n",
    "plt.xlabel('Product Category')\n",
    "plt.ylabel('Count')\n",
    "plt.title('Product Category Distribution')\n",
    "plt.show()"
   ]
  },
  {
   "cell_type": "code",
   "execution_count": null,
   "id": "a083a20b",
   "metadata": {},
   "outputs": [],
   "source": []
  }
 ],
 "metadata": {
  "kernelspec": {
   "display_name": "Python 3 (ipykernel)",
   "language": "python",
   "name": "python3"
  },
  "language_info": {
   "codemirror_mode": {
    "name": "ipython",
    "version": 3
   },
   "file_extension": ".py",
   "mimetype": "text/x-python",
   "name": "python",
   "nbconvert_exporter": "python",
   "pygments_lexer": "ipython3",
   "version": "3.11.3"
  }
 },
 "nbformat": 4,
 "nbformat_minor": 5
}
