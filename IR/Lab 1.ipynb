{
 "cells": [
  {
   "cell_type": "markdown",
   "id": "3ec25e57",
   "metadata": {},
   "source": [
    "---\n",
    "# Text Preprocessing Program\n",
    "\n",
    "## Problem Statement:\n",
    "\n",
    "In the field of Natural Language Processing (NLP) and text analysis, it is essential to preprocess textual data to make it suitable for various language processing tasks, such as sentiment analysis, text classification, or information retrieval. Text preprocessing involves tasks like removing irrelevant words (stop words), reducing words to their root form (stemming), and cleaning up the text for analysis.\n",
    "\n",
    "The objective of this program is to develop a text preprocessing tool that can perform the following tasks on a given text document:\n",
    "\n",
    "1. **Stop Word Removal**: Stop words are common words (e.g., \"the,\" \"is,\" \"in\") that do not carry significant meaning in text analysis. This program should identify and remove stop words from the input text.\n",
    "\n",
    "2. **Stemming**: Stemming is the process of reducing words to their base or root form (e.g., \"running\" to \"run\"). The program should apply stemming to the remaining words in the text to standardize them.\n",
    "\n",
    "## Input:\n",
    "\n",
    "The input to the program is a text document or string, which may contain natural language text, and may include punctuation and a mixture of uppercase and lowercase letters.\n",
    "\n",
    "## Output:\n",
    "\n",
    "The program will output the preprocessed text, which is a cleaned version of the input text after stop word removal and stemming.\n",
    "\n",
    "### Implementation:\n",
    "\n",
    "The program is implemented in Python, utilizing the NLTK (Natural Language Toolkit) library for stop word removal and stemming. It consists of functions for text preprocessing and an example demonstrating how to use the functions on a sample input text.\n",
    "\n",
    "The goal is to provide a simple yet effective text preprocessing tool that can be integrated into various text analysis tasks.\n",
    "\n",
    "---"
   ]
  },
  {
   "cell_type": "markdown",
   "id": "f67d780c",
   "metadata": {},
   "source": [
    "### Importing Libraries"
   ]
  },
  {
   "cell_type": "code",
   "execution_count": 1,
   "id": "0c9eb9ca",
   "metadata": {},
   "outputs": [
    {
     "name": "stderr",
     "output_type": "stream",
     "text": [
      "[nltk_data] Downloading package punkt to\n",
      "[nltk_data]     C:\\Users\\sidla\\AppData\\Roaming\\nltk_data...\n",
      "[nltk_data]   Package punkt is already up-to-date!\n",
      "[nltk_data] Downloading package stopwords to\n",
      "[nltk_data]     C:\\Users\\sidla\\AppData\\Roaming\\nltk_data...\n",
      "[nltk_data]   Package stopwords is already up-to-date!\n"
     ]
    },
    {
     "data": {
      "text/plain": [
       "True"
      ]
     },
     "execution_count": 1,
     "metadata": {},
     "output_type": "execute_result"
    }
   ],
   "source": [
    "import nltk\n",
    "from nltk.corpus import stopwords\n",
    "from nltk.tokenize import word_tokenize\n",
    "from nltk.stem import PorterStemmer\n",
    "nltk.download('punkt')\n",
    "nltk.download('stopwords')"
   ]
  },
  {
   "cell_type": "markdown",
   "id": "a9ce4655",
   "metadata": {},
   "source": [
    "### Preprocessing Function Definition"
   ]
  },
  {
   "cell_type": "code",
   "execution_count": 2,
   "id": "725c63b6",
   "metadata": {},
   "outputs": [],
   "source": [
    "# Defining a function to preprocess the text\n",
    "def preprocess_text(text):\n",
    "    words = word_tokenize(text)\n",
    "    stemmer = PorterStemmer()\n",
    "    stop_words = set(stopwords.words('english'))\n",
    "    words = [word.lower() for word in words if word.isalnum()]\n",
    "    filtered_words = [stemmer.stem(word) for word in words if word not in stop_words]   \n",
    "    preprocessed_text = ' '.join(filtered_words)\n",
    "    return preprocessed_text"
   ]
  },
  {
   "cell_type": "markdown",
   "id": "18d52cd3",
   "metadata": {},
   "source": [
    "### Preprocessing Example"
   ]
  },
  {
   "cell_type": "code",
   "execution_count": 3,
   "id": "eb400321",
   "metadata": {},
   "outputs": [
    {
     "name": "stdout",
     "output_type": "stream",
     "text": [
      "Original Text:\n",
      "\n",
      "Natural language processing (NLP) is a field of artificial intelligence\n",
      "that focuses on the interaction between computers and humans through\n",
      "natural language.\n",
      "\n",
      "\n",
      "Preprocessed Text:\n",
      "natur languag process nlp field artifici intellig focus interact comput human natur languag\n"
     ]
    }
   ],
   "source": [
    "input_text = \"\"\"\n",
    "Natural language processing (NLP) is a field of artificial intelligence\n",
    "that focuses on the interaction between computers and humans through\n",
    "natural language.\n",
    "\"\"\"\n",
    "preprocessed_text = preprocess_text(input_text)\n",
    "\n",
    "print(\"Original Text:\")\n",
    "print(input_text)\n",
    "\n",
    "print(\"\\nPreprocessed Text:\")\n",
    "print(preprocessed_text)"
   ]
  },
  {
   "cell_type": "code",
   "execution_count": null,
   "id": "a4c3bc9f",
   "metadata": {},
   "outputs": [],
   "source": []
  }
 ],
 "metadata": {
  "kernelspec": {
   "display_name": "Python 3 (ipykernel)",
   "language": "python",
   "name": "python3"
  },
  "language_info": {
   "codemirror_mode": {
    "name": "ipython",
    "version": 3
   },
   "file_extension": ".py",
   "mimetype": "text/x-python",
   "name": "python",
   "nbconvert_exporter": "python",
   "pygments_lexer": "ipython3",
   "version": "3.11.3"
  }
 },
 "nbformat": 4,
 "nbformat_minor": 5
}
