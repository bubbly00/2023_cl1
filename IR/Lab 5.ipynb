{
 "cells": [
  {
   "cell_type": "markdown",
   "id": "59004d1d",
   "metadata": {},
   "source": [
    "---\n",
    "\n",
    "# PageRank Algorithm Implementation\n",
    "\n",
    "## Problem Statement\n",
    "\n",
    "Implement Page Rank Algorithm. (Use python or beautiful soup for implementation).\n",
    "\n",
    "\n",
    "## Background\n",
    "\n",
    "PageRank is a link analysis algorithm that was developed by Larry Page and Sergey Brin, the founders of Google. It is designed to rank web pages in a way that reflects their importance or influence based on the structure of the web, particularly the number and quality of links pointing to a page.\n",
    "\n",
    "## Problem Description\n",
    "\n",
    "The code provided implements the PageRank algorithm on a small 4-page web graph using the following steps:\n",
    "\n",
    "1. **Web Graph Representation**: The web graph is represented as an adjacency matrix, where rows represent source pages, columns represent target pages, and a link from page i to page j is represented by a 1 in the matrix at (i, j).\n",
    "\n",
    "2. **Calculating Out-Degree**: The out-degree of each page is calculated, which is the number of links originating from that page.\n",
    "\n",
    "3. **Initializing PageRank**: PageRank values are initialized uniformly for all pages. In this example, they are set to be equal.\n",
    "\n",
    "4. **PageRank Damping Factor**: A damping factor is introduced to simulate the behavior of web surfers who might occasionally jump to random pages. In this example, the damping factor is set to 0.85.\n",
    "\n",
    "5. **Iterative PageRank Calculation**: The PageRank values are iteratively updated. At each iteration, the PageRank of a page is recalculated based on the PageRank values of the pages linking to it and the damping factor.\n",
    "\n",
    "6. **Final PageRank Values**: The final PageRank values are printed for each page.\n",
    "\n",
    "### Input\n",
    "\n",
    "The input for this problem is a web graph represented as an adjacency matrix. Each cell in the matrix indicates whether there is a link from one page to another.\n",
    "\n",
    "### Output\n",
    "\n",
    "The output is a set of PageRank values for each page in the web graph. These values indicate the importance and influence of each page within the graph.\n",
    "\n",
    "### Potential Improvements\n",
    "\n",
    "In practice, PageRank is applied to much larger web graphs. The algorithm can be improved and optimized for handling real-world datasets. Additionally, link quality and other factors can be incorporated into PageRank calculations for more accurate results.\n",
    "\n",
    "---\n"
   ]
  },
  {
   "cell_type": "code",
   "execution_count": 1,
   "id": "19bcdace",
   "metadata": {},
   "outputs": [],
   "source": [
    "import numpy as np\n",
    "'''\n",
    "Example web graph as an adjacency matrix\n",
    "Rows represent source pages, columns represent target pages\n",
    "A link from page i to page j is represented by a 1 in the matrix at (i, j)\n",
    "'''\n",
    "adjacency_matrix = np.array([\n",
    "    [0, 1, 1, 0],\n",
    "    [1, 0, 1, 0],\n",
    "    [0, 1, 0, 1],\n",
    "    [0, 0, 1, 0]\n",
    "])"
   ]
  },
  {
   "cell_type": "code",
   "execution_count": 2,
   "id": "ef7c3fe4",
   "metadata": {},
   "outputs": [],
   "source": [
    "# Calculating out-degree of each page\n",
    "out_degree = np.sum(adjacency_matrix, axis=1)\n",
    "\n",
    "n_pages = len(adjacency_matrix)\n",
    "initial_pagerank = np.ones(n_pages) / n_pages\n",
    "damping_factor = 0.85"
   ]
  },
  {
   "cell_type": "code",
   "execution_count": 3,
   "id": "e8a4b032",
   "metadata": {},
   "outputs": [
    {
     "name": "stdout",
     "output_type": "stream",
     "text": [
      "Page 1: 0.1483\n",
      "Page 2: 0.2674\n",
      "Page 3: 0.3817\n",
      "Page 4: 0.2026\n"
     ]
    }
   ],
   "source": [
    "pagerank = initial_pagerank.copy()\n",
    "for _ in range(10):\n",
    "    new_pagerank = np.zeros(n_pages)\n",
    "    for i in range(n_pages):\n",
    "        for j in range(n_pages):\n",
    "            if adjacency_matrix[j, i] == 1:\n",
    "                new_pagerank[i] += pagerank[j] / out_degree[j]\n",
    "    pagerank = (1 - damping_factor) * (initial_pagerank) + damping_factor * new_pagerank\n",
    "    \n",
    "for i, pr in enumerate(pagerank):\n",
    "    print(f\"Page {i + 1}: {pr:.4f}\")"
   ]
  },
  {
   "cell_type": "markdown",
   "id": "63ed5837",
   "metadata": {},
   "source": [
    "1. **Page 1: 0.1483**\n",
    "   - This value represents the PageRank score for Page 1.\n",
    "   - Page 1 has a relatively low PageRank score of 0.1483.\n",
    "   - Page 1 has incoming links from Page 2 and Page 3.\n",
    "\n",
    "2. **Page 2: 0.2674**\n",
    "   - This value represents the PageRank score for Page 2.\n",
    "   - Page 2 has a higher PageRank score than Page 1, indicating that it is considered more important.\n",
    "   - Page 2 has incoming links from Page 1 and Page 3.\n",
    "\n",
    "3. **Page 3: 0.3817**\n",
    "   - This value represents the PageRank score for Page 3.\n",
    "   - Page 3 has the highest PageRank score among all the pages.\n",
    "   - Page 3 has incoming links from Page 2 and Page 4.\n",
    "   - The high score indicates that Page 3 is considered the most important or influential page in the web graph.\n",
    "\n",
    "4. **Page 4: 0.2026**\n",
    "   - This value represents the PageRank score for Page 4.\n",
    "   - Page 4 has a PageRank score of 0.2026, which is lower than Page 2 and Page 3 but higher than Page 1.\n",
    "   - Page 4 has an incoming link from Page 3.\n",
    "\n",
    "In the context of the PageRank algorithm:\n",
    "\n",
    "- Pages with higher PageRank scores are considered more important or influential in the web graph.\n",
    "- The PageRank algorithm takes into account both the number of incoming links to a page and the importance of the linking pages. A page with high-quality incoming links will have a higher PageRank.\n",
    "- The damping factor (0.85 in this example) introduces a level of randomness, ensuring that all pages have a chance to receive PageRank, even if they have no incoming links.\n",
    "\n",
    "The PageRank values represent the importance or influence of each page in the web graph based on the link structure and the PageRank algorithm's principles. Page 3 is the most influential in this specific example."
   ]
  },
  {
   "cell_type": "code",
   "execution_count": null,
   "id": "66485f3f",
   "metadata": {},
   "outputs": [],
   "source": []
  }
 ],
 "metadata": {
  "kernelspec": {
   "display_name": "Python 3 (ipykernel)",
   "language": "python",
   "name": "python3"
  },
  "language_info": {
   "codemirror_mode": {
    "name": "ipython",
    "version": 3
   },
   "file_extension": ".py",
   "mimetype": "text/x-python",
   "name": "python",
   "nbconvert_exporter": "python",
   "pygments_lexer": "ipython3",
   "version": "3.11.3"
  }
 },
 "nbformat": 4,
 "nbformat_minor": 5
}
