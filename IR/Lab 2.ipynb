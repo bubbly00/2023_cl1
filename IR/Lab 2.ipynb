{
 "cells": [
  {
   "cell_type": "markdown",
   "id": "c3a616c1",
   "metadata": {},
   "source": [
    "# Document Retrieval System using Inverted Files\n",
    "\n",
    "## Problem Statement\n",
    "Implement a program for retrieval of documents using inverted files.\n",
    "\n",
    "### Background\n",
    "\n",
    "- **Document Data**: We have a collection of text documents, each represented as a string. In this specific problem, two sample documents are given:\n",
    "\n",
    "  - Document 1: \"The quick brown fox jumped over the lazy dog.\"\n",
    "  - Document 2: \"The lazy dog slept in the sun.\"\n",
    "\n",
    "### Problem Description\n",
    "\n",
    "The goal of this problem is to develop a document retrieval system using inverted files, which consists of the following steps:\n",
    "\n",
    "1. **Tokenization**: Tokenize the text documents into individual terms (words) and convert them to lowercase. Create a list of unique terms by merging the terms from all documents.\n",
    "\n",
    "2. **Inverted Index Construction**: Build an inverted index data structure that maps terms to the documents in which they appear. For each term, identify the documents containing that term.\n",
    "\n",
    "3. **Print Inverted Index**: Display the inverted index, showing each term and the list of documents in which it appears.\n",
    "\n",
    "### Input\n",
    "\n",
    "The input consists of two text documents (document1 and document2), each represented as a string.\n",
    "\n",
    "### Output\n",
    "\n",
    "The program produces an inverted index, where each term is associated with the documents that contain it."
   ]
  },
  {
   "cell_type": "code",
   "execution_count": 1,
   "id": "93448ff3",
   "metadata": {},
   "outputs": [],
   "source": [
    "document1 = \"The quick brown fox jumped over the lazy dog.\"\n",
    "document2 = \"The lazy dog slept in the sun.\""
   ]
  },
  {
   "cell_type": "markdown",
   "id": "7ac42e51",
   "metadata": {},
   "source": [
    "### Tokenizing the documents"
   ]
  },
  {
   "cell_type": "code",
   "execution_count": 2,
   "id": "96611f8d",
   "metadata": {},
   "outputs": [],
   "source": [
    "tokens1 = document1.lower().split()\n",
    "tokens2 = document2.lower().split()\n",
    "\n",
    "terms = list(set(tokens1 + tokens2))"
   ]
  },
  {
   "cell_type": "markdown",
   "id": "4f2b6297",
   "metadata": {},
   "source": [
    "### Building the inverted index"
   ]
  },
  {
   "cell_type": "code",
   "execution_count": 3,
   "id": "33e7769f",
   "metadata": {},
   "outputs": [],
   "source": [
    "inverted_index = {}\n",
    "\n",
    "for term in terms:\n",
    "    documents = []\n",
    "    \n",
    "    if term in tokens1:\n",
    "        documents.append(\"Document 1\")\n",
    "    if term in tokens2:\n",
    "        documents.append(\"Document 2\")\n",
    "    \n",
    "    inverted_index[term] = documents"
   ]
  },
  {
   "cell_type": "markdown",
   "id": "2bef087f",
   "metadata": {},
   "source": [
    "###  Printing the inverted index"
   ]
  },
  {
   "cell_type": "code",
   "execution_count": 4,
   "id": "cbe1ff23",
   "metadata": {},
   "outputs": [
    {
     "name": "stdout",
     "output_type": "stream",
     "text": [
      "lazy -> Document 1, Document 2\n",
      "in -> Document 2\n",
      "dog -> Document 2\n",
      "quick -> Document 1\n",
      "over -> Document 1\n",
      "fox -> Document 1\n",
      "slept -> Document 2\n",
      "sun. -> Document 2\n",
      "dog. -> Document 1\n",
      "the -> Document 1, Document 2\n",
      "jumped -> Document 1\n",
      "brown -> Document 1\n"
     ]
    }
   ],
   "source": [
    "for term, documents in inverted_index.items():\n",
    "    print(term, \"->\", \", \".join(documents))"
   ]
  },
  {
   "cell_type": "code",
   "execution_count": null,
   "id": "1dc55fce",
   "metadata": {},
   "outputs": [],
   "source": []
  }
 ],
 "metadata": {
  "kernelspec": {
   "display_name": "Python 3 (ipykernel)",
   "language": "python",
   "name": "python3"
  },
  "language_info": {
   "codemirror_mode": {
    "name": "ipython",
    "version": 3
   },
   "file_extension": ".py",
   "mimetype": "text/x-python",
   "name": "python",
   "nbconvert_exporter": "python",
   "pygments_lexer": "ipython3",
   "version": "3.11.3"
  }
 },
 "nbformat": 4,
 "nbformat_minor": 5
}
