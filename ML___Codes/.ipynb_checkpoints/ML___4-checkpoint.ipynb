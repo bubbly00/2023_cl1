{
 "cells": [
  {
   "cell_type": "code",
   "execution_count": 27,
   "id": "662cb5ec",
   "metadata": {},
   "outputs": [
    {
     "name": "stdout",
     "output_type": "stream",
     "text": [
      "4\n"
     ]
    }
   ],
   "source": [
    "print(\"4\")"
   ]
  },
  {
   "cell_type": "code",
   "execution_count": null,
   "id": "ad20c636",
   "metadata": {},
   "outputs": [],
   "source": [
    "import pandas as pd\n",
    "import numpy as np\n",
    "import matplotlib.pyplot as plt\n",
    "from sklearn.cluster import KMeans\n",
    "# Load the Iris dataset\n",
    "iris_df = pd.read_csv(\"Iris.csv\")\n",
    "# Remove the 'Species' column as it's not needed for clustering\n",
    "X = iris_df.drop(\"Species\", axis=1)\n",
    "# Initialize an empty list to store the sum of squared distances\n",
    "sse = []\n",
    "# Try different values of k (number of clusters) from 1 to 10\n",
    "for k in range(1, 11):\n",
    "    kmeans = KMeans(n_clusters=k, random_state=42)\n",
    "    kmeans.fit(X)\n",
    "    sse.append(kmeans.inertia_)\n",
    "\n",
    "# Plot the sum of squared distances (sse) for each value of k\n",
    "plt.figure(figsize=(8, 6))\n",
    "plt.plot(range(1, 11), sse, marker='o', linestyle='--')\n",
    "plt.title('Elbow Method for Optimal K')\n",
    "plt.xlabel('Number of Clusters (K)')\n",
    "plt.ylabel('Sum of Squared Distances (SSE)')\n",
    "plt.grid(True)\n",
    "plt.show()\n",
    "# Choose the optimal K based on the elbow plot (e.g., K=3)\n",
    "optimal_k = 3\n",
    "\n",
    "# Perform K-Means clustering with the optimal K\n",
    "kmeans = KMeans(n_clusters=optimal_k, random_state=42)\n",
    "kmeans.fit(X)\n",
    "# Add the cluster labels to the original DataFrame\n",
    "iris_df['Cluster'] = kmeans.labels_\n",
    "\n",
    "# Print the cluster centers\n",
    "print(\"Cluster Centers:\")\n",
    "print(kmeans.cluster_centers_)\n",
    "# Display the resulting DataFrame with cluster labels\n",
    "print(iris_df.head())"
   ]
  }
 ],
 "metadata": {
  "kernelspec": {
   "display_name": "Python 3 (ipykernel)",
   "language": "python",
   "name": "python3"
  },
  "language_info": {
   "codemirror_mode": {
    "name": "ipython",
    "version": 3
   },
   "file_extension": ".py",
   "mimetype": "text/x-python",
   "name": "python",
   "nbconvert_exporter": "python",
   "pygments_lexer": "ipython3",
   "version": "3.9.12"
  }
 },
 "nbformat": 4,
 "nbformat_minor": 5
}
