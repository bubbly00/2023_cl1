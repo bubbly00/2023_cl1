{
 "cells": [
  {
   "cell_type": "code",
   "execution_count": 7,
   "id": "c7f08486",
   "metadata": {},
   "outputs": [
    {
     "ename": "ModuleNotFoundError",
     "evalue": "No module named 'geopy'",
     "output_type": "error",
     "traceback": [
      "\u001b[0;31m---------------------------------------------------------------------------\u001b[0m",
      "\u001b[0;31mModuleNotFoundError\u001b[0m                       Traceback (most recent call last)",
      "Input \u001b[0;32mIn [7]\u001b[0m, in \u001b[0;36m<cell line: 9>\u001b[0;34m()\u001b[0m\n\u001b[1;32m      7\u001b[0m \u001b[38;5;28;01mfrom\u001b[39;00m \u001b[38;5;21;01msklearn\u001b[39;00m\u001b[38;5;21;01m.\u001b[39;00m\u001b[38;5;21;01mpreprocessing\u001b[39;00m \u001b[38;5;28;01mimport\u001b[39;00m StandardScaler\n\u001b[1;32m      8\u001b[0m \u001b[38;5;28;01mimport\u001b[39;00m \u001b[38;5;21;01mmatplotlib\u001b[39;00m\u001b[38;5;21;01m.\u001b[39;00m\u001b[38;5;21;01mpyplot\u001b[39;00m \u001b[38;5;28;01mas\u001b[39;00m \u001b[38;5;21;01mplt\u001b[39;00m\n\u001b[0;32m----> 9\u001b[0m \u001b[38;5;28;01mfrom\u001b[39;00m \u001b[38;5;21;01mgeopy\u001b[39;00m\u001b[38;5;21;01m.\u001b[39;00m\u001b[38;5;21;01mdistance\u001b[39;00m \u001b[38;5;28;01mimport\u001b[39;00m great_circle\n\u001b[1;32m     11\u001b[0m \u001b[38;5;66;03m# Load your dataset\u001b[39;00m\n\u001b[1;32m     12\u001b[0m data \u001b[38;5;241m=\u001b[39m pd\u001b[38;5;241m.\u001b[39mread_csv(\u001b[38;5;124m'\u001b[39m\u001b[38;5;124muber.csv\u001b[39m\u001b[38;5;124m'\u001b[39m)\n",
      "\u001b[0;31mModuleNotFoundError\u001b[0m: No module named 'geopy'"
     ]
    }
   ],
   "source": [
    "# Import necessary libraries\n",
    "import pandas as pd\n",
    "import numpy as np\n",
    "from sklearn.model_selection import train_test_split\n",
    "from sklearn.linear_model import LinearRegression, Ridge, Lasso\n",
    "from sklearn.metrics import r2_score, mean_squared_error\n",
    "from sklearn.preprocessing import StandardScaler\n",
    "import matplotlib.pyplot as plt\n",
    "from geopy.distance import great_circle\n",
    "\n",
    "# Load your dataset\n",
    "data = pd.read_csv('uber.csv')\n",
    "# Check for and drop rows with missing or invalid coordinates\n",
    "data = data.dropna(subset=['pickup_latitude', 'pickup_longitude', 'dropoff_latitude', 'dropoff_longitude'])\n",
    "data = data[(data['pickup_latitude'] >= -90) & (data['pickup_latitude'] <= 90)]\n",
    "data = data[(data['pickup_longitude'] >= -180) & (data['pickup_longitude'] <= 180)]\n",
    "data = data[(data['dropoff_latitude'] >= -90) & (data['dropoff_latitude'] <= 90)]\n",
    "data = data[(data['dropoff_longitude'] >= -180) & (data['dropoff_longitude'] <= 180)]\n",
    "\n",
    "# Calculate the distance for each row and create a new column 'distance'\n",
    "data['distance'] = data.apply(lambda row: great_circle(\n",
    "    (row['pickup_latitude'], row['pickup_longitude']),\n",
    "    (row['dropoff_latitude'], row['dropoff_longitude'])).miles, axis=1)\n",
    "# Save the updated DataFrame to a new CSV file\n",
    "# Replace 'updated_dataset.csv' with the desired file name\n",
    "data.to_csv('uber.csv', index=False)\n",
    "# Step 1: Pre-process the dataset\n",
    "# Assume you have columns like 'pickup_longitude', 'pickup_latitude', 'dropoff_longitude', 'dropoff_latitude', 'distance', and 'price'.\n",
    "# Handle missing values if any\n",
    "data.dropna(inplace=True)\n",
    "# Encode categorical features if necessary\n",
    "# You may need to convert categorical variables into numerical format using techniques like one-hot encoding.\n",
    "# Split the dataset into features (X) and target (y)\n",
    "X = data[['pickup_longitude', 'pickup_latitude', 'dropoff_longitude', 'dropoff_latitude', 'distance']]\n",
    "y = data['fare_amount']\n",
    "# Step 2: Identify outliers\n",
    "# You can use different methods like z-score or IQR to detect outliers.\n",
    "from scipy import stats\n",
    "z_scores = np.abs(stats.zscore(data['distance']))\n",
    "outliers = (z_scores > 3)\n",
    "data = data[~outliers]\n",
    "# Step 3: Check the correlation\n",
    "correlation_matrix = data.corr()\n",
    "print(correlation_matrix)"
   ]
  },
  {
   "cell_type": "code",
   "execution_count": null,
   "id": "4bf94bb8",
   "metadata": {},
   "outputs": [],
   "source": []
  }
 ],
 "metadata": {
  "kernelspec": {
   "display_name": "Python 3 (ipykernel)",
   "language": "python",
   "name": "python3"
  },
  "language_info": {
   "codemirror_mode": {
    "name": "ipython",
    "version": 3
   },
   "file_extension": ".py",
   "mimetype": "text/x-python",
   "name": "python",
   "nbconvert_exporter": "python",
   "pygments_lexer": "ipython3",
   "version": "3.9.12"
  }
 },
 "nbformat": 4,
 "nbformat_minor": 5
}
