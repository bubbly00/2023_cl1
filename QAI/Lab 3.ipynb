{
 "cells": [
  {
   "cell_type": "markdown",
   "metadata": {},
   "source": [
    "### Implementing Tarrataca’s quantum production system with the 3-puzzle problem\n",
    "This Python script demonstrates Tarrataca's quantum production system to solve the 3-puzzle problem using IBM's Qiskit library. In this quantum circuit, a 3-qubit system is prepared to generate a specific arrangement, in this case, the 'ABC' permutation. The operations include applying a Hadamard gate to the first qubit (qc.h(0)), followed by controlled-X (CNOT) gates to entangle the qubits and create the desired arrangement. Finally, the qubits are measured, and the results are simulated using a quantum simulator.\n",
    "\n",
    "The code utilizes the Qiskit Aer backend for simulation and transpile functions to optimize and compile the quantum circuit. The measurement results are then obtained and displayed in the form of a histogram using the plot_histogram function from Qiskit's visualization module.\n",
    "\n",
    "This implementation provides a practical example of using quantum computing techniques to address combinatorial problems, specifically the 3-puzzle problem in this case."
   ]
  },
  {
   "cell_type": "code",
   "execution_count": 1,
   "metadata": {
    "id": "Iytn-zFUJfe0"
   },
   "outputs": [],
   "source": [
    "# !pip install qiskit\n",
    "# !pip install qiskit-aer"
   ]
  },
  {
   "cell_type": "code",
   "execution_count": 2,
   "metadata": {
    "id": "YUeMSyxXJE0f"
   },
   "outputs": [],
   "source": [
    "from qiskit import QuantumCircuit, transpile, assemble, Aer\n",
    "from qiskit.visualization import plot_histogram"
   ]
  },
  {
   "cell_type": "code",
   "execution_count": 3,
   "metadata": {
    "id": "gVyGjRiqJTyl"
   },
   "outputs": [],
   "source": [
    "# Defining a quantum circuit with 3 qubits\n",
    "qc = QuantumCircuit(3, 3)"
   ]
  },
  {
   "cell_type": "code",
   "execution_count": 4,
   "metadata": {
    "colab": {
     "base_uri": "https://localhost:8080/"
    },
    "id": "LugaAM21JUCB",
    "outputId": "05604524-acbb-43f3-8a77-3dcb82ca4bc0"
   },
   "outputs": [
    {
     "data": {
      "text/plain": [
       "<qiskit.circuit.instructionset.InstructionSet at 0x7daea51ddd50>"
      ]
     },
     "execution_count": 4,
     "metadata": {},
     "output_type": "execute_result"
    }
   ],
   "source": [
    "'''\n",
    "Applying operations to create the desired arrangement (ABC permutation)\n",
    "For example, let's create the arrangement 'ABC'\n",
    "'''\n",
    "qc.h(0)  # Applying Hadamard gate to qubit 0\n",
    "qc.cx(0, 1)  # Applying CNOT gate between qubit 0 and qubit 1\n",
    "qc.cx(0, 2)  # Applying CNOT gate between qubit 0 and qubit 2"
   ]
  },
  {
   "cell_type": "code",
   "execution_count": 5,
   "metadata": {
    "id": "DdsNfXvtJZJx"
   },
   "outputs": [],
   "source": [
    "# Measuring the qubits to obtain the final result\n",
    "qc.measure([0, 1, 2], [0, 1, 2])\n",
    "simulator = Aer.get_backend('qasm_simulator')"
   ]
  },
  {
   "cell_type": "code",
   "execution_count": 6,
   "metadata": {
    "colab": {
     "base_uri": "https://localhost:8080/"
    },
    "id": "ItVbGt9_Jlo9",
    "outputId": "6b028d27-45f7-49f8-9965-0c8e2e2f6c6d"
   },
   "outputs": [
    {
     "name": "stderr",
     "output_type": "stream",
     "text": [
      "<ipython-input-6-15eeb7d70b56>:4: DeprecationWarning: Using a qobj for run() is deprecated as of qiskit-aer 0.9.0 and will be removed no sooner than 3 months from that release date. Transpiled circuits should now be passed directly using `backend.run(circuits, **run_options).\n",
      "  result = simulator.run(qobj).result()\n"
     ]
    }
   ],
   "source": [
    "# Executing the circuit on the simulator\n",
    "compiled_circuit = transpile(qc, simulator)\n",
    "qobj = assemble(compiled_circuit)\n",
    "result = simulator.run(qobj).result()"
   ]
  },
  {
   "cell_type": "code",
   "execution_count": 7,
   "metadata": {
    "colab": {
     "base_uri": "https://localhost:8080/",
     "height": 490
    },
    "id": "jVe8UjPEJn3L",
    "outputId": "c1cd0962-2368-4649-8381-82ae31d06ac3"
   },
   "outputs": [
    {
     "name": "stdout",
     "output_type": "stream",
     "text": [
      "Measurement results: {'111': 498, '000': 526}\n"
     ]
    },
    {
     "data": {
      "image/png": "[encoded data removed]",
      "text/plain": [
       "<Figure size 700x500 with 1 Axes>"
      ]
     },
     "execution_count": 7,
     "metadata": {},
     "output_type": "execute_result"
    }
   ],
   "source": [
    "# Getting the counts of the results\n",
    "counts = result.get_counts()\n",
    "print(\"Measurement results:\", counts)\n",
    "\n",
    "# Visualising the measurement results\n",
    "plot_histogram(counts)"
   ]
  }
 ],
 "metadata": {
  "colab": {
   "provenance": []
  },
  "kernelspec": {
   "display_name": "Python 3 (ipykernel)",
   "language": "python",
   "name": "python3"
  },
  "language_info": {
   "codemirror_mode": {
    "name": "ipython",
    "version": 3
   },
   "file_extension": ".py",
   "mimetype": "text/x-python",
   "name": "python",
   "nbconvert_exporter": "python",
   "pygments_lexer": "ipython3",
   "version": "3.8.18"
  }
 },
 "nbformat": 4,
 "nbformat_minor": 1
}
