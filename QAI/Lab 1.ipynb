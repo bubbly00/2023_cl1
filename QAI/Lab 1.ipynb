{
 "cells": [
  {
   "cell_type": "markdown",
   "metadata": {},
   "source": [
    "### Implementation of 16 Qubit Random Number Generator\n",
    "This Python script demonstrates the implementation of a 16-qubit random number generator using the Qiskit library for quantum computing. The code creates a quantum circuit with 16 qubits, applies Hadamard gates to superpose the states, and measures the qubits. The quantum state is then converted to a binary string, and the script outputs a random integer by converting this binary string to its decimal representation. The final result is a 16-qubit random number printed to the console. Note that this implementation is based on a simulation using the Qiskit Aer simulator, providing a glimpse into quantum random number generation using a classical simulator."
   ]
  },
  {
   "cell_type": "code",
   "execution_count": 1,
   "metadata": {
    "colab": {
     "base_uri": "https://localhost:8080/"
    },
    "id": "637CAejCF4ik",
    "outputId": "e4ddafe2-e4bf-4384-a118-41b39261b127"
   },
   "outputs": [
    {
     "name": "stdout",
     "output_type": "stream",
     "text": [
      "16-qubit random number: 13005\n"
     ]
    }
   ],
   "source": [
    "# !pip install qiskit\n",
    "# !pip install qiskit-aer\n",
    "from qiskit import QuantumCircuit, Aer, execute\n",
    "\n",
    "def generate_16qubit_random_number():\n",
    "    num_qubits = 16\n",
    "    circuit = QuantumCircuit(num_qubits, num_qubits)\n",
    "    circuit.h(range(num_qubits))  # Applying Hadamard gate to all qubits\n",
    "    circuit.measure(range(num_qubits), range(num_qubits))\n",
    "\n",
    "    backend = Aer.get_backend('qasm_simulator')\n",
    "    job = execute(circuit, backend, shots=1)\n",
    "    result = job.result()\n",
    "    counts = result.get_counts(circuit)\n",
    "\n",
    "    # Converting the measured quantum state to an integer\n",
    "    random_number = int(list(counts.keys())[0], 2)\n",
    "    return random_number\n",
    "\n",
    "random_number = generate_16qubit_random_number()\n",
    "print(\"16-qubit random number:\", random_number)\n"
   ]
  }
 ],
 "metadata": {
  "colab": {
   "provenance": []
  },
  "kernelspec": {
   "display_name": "Python 3 (ipykernel)",
   "language": "python",
   "name": "python3"
  },
  "language_info": {
   "codemirror_mode": {
    "name": "ipython",
    "version": 3
   },
   "file_extension": ".py",
   "mimetype": "text/x-python",
   "name": "python",
   "nbconvert_exporter": "python",
   "pygments_lexer": "ipython3",
   "version": "3.8.18"
  }
 },
 "nbformat": 4,
 "nbformat_minor": 1
}
