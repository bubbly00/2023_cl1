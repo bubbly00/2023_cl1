{
 "cells": [
  {
   "cell_type": "markdown",
   "metadata": {},
   "source": [
    "### Tackling Noise with Error Correction\n",
    "This Python script demonstrates the implementation of error correction techniques to tackle noise in quantum circuits using Qiskit, a quantum computing framework for Python.\n",
    "\n",
    "The code begins by creating a 5-qubit Quantum Circuit (qc). It then sets up a Noise Model to simulate the effects of noise in a quantum channel. The noise model includes a depolarizing error, with a specified probability (p_error), applied to basic quantum gates ('u1', 'u2', 'u3'). Additionally, a specific X error is introduced to qubit 2 as an example of a corrected gate specification.\n",
    "\n",
    "The quantum circuit is then configured to measure all qubits (qc.measure_all()). Then it proceeds to transpile the circuit for simulation on a noisy quantum simulator provided by Aer. The execution of the noisy circuit is performed using the execute function, considering the defined noise model.\n",
    "\n",
    "Finally, the results of the simulation are obtained, and the counts of different measurement outcomes are printed.\n",
    "\n",
    "This serves as a practical illustration of how quantum error correction techniques can be implemented using Qiskit to mitigate the impact of noise on quantum computations."
   ]
  },
  {
   "cell_type": "code",
   "execution_count": 1,
   "metadata": {
    "id": "l8TuljDg5guY"
   },
   "outputs": [],
   "source": [
    "# !pip install qiskit\n",
    "# !pip install qiskit-aer"
   ]
  },
  {
   "cell_type": "code",
   "execution_count": 2,
   "metadata": {
    "id": "jK_KIET85w6l"
   },
   "outputs": [],
   "source": [
    "from qiskit import QuantumCircuit, transpile, Aer, execute\n",
    "from qiskit.visualization import plot_histogram\n",
    "from qiskit.providers.aer.noise import NoiseModel, depolarizing_error"
   ]
  },
  {
   "cell_type": "code",
   "execution_count": 3,
   "metadata": {
    "id": "S0oLcY_35w4C"
   },
   "outputs": [],
   "source": [
    "# Defining a quantum error correction code (5 qubits)\n",
    "n = 5\n",
    "qc = QuantumCircuit(n)\n",
    "# Simulating a noisy quantum channel\n",
    "noise_model = NoiseModel()\n",
    "# Depolarizing error for general errors\n",
    "p_error = 0.1  # Probability of an error\n",
    "error = depolarizing_error(p_error, 1)\n",
    "noise_model.add_all_qubit_quantum_error(error, ['u1', 'u2', 'u3'])\n",
    "# Adding an X error to qubit 2 (data qubit)\n",
    "error_gate = depolarizing_error(p_error, 1)\n",
    "noise_model.add_quantum_error(error_gate, 'x', [2])  # Corrected gate specification"
   ]
  },
  {
   "cell_type": "code",
   "execution_count": 4,
   "metadata": {
    "id": "z6YXjuV-5w1L"
   },
   "outputs": [],
   "source": [
    "qc.measure_all()"
   ]
  },
  {
   "cell_type": "code",
   "execution_count": 5,
   "metadata": {
    "id": "cqtb67Sh633D"
   },
   "outputs": [],
   "source": [
    "# Transpiling the circuit for the noisy simulator\n",
    "noisy_simulator = Aer.get_backend('qasm_simulator')\n",
    "noisy_circuit = transpile(qc, noisy_simulator, basis_gates=noise_model.basis_gates)\n",
    "# Executing the noisy circuit\n",
    "job = execute(noisy_circuit, noisy_simulator, noise_model=noise_model)\n",
    "result = job.result()\n",
    "counts = result.get_counts()"
   ]
  },
  {
   "cell_type": "code",
   "execution_count": 6,
   "metadata": {
    "colab": {
     "base_uri": "https://localhost:8080/"
    },
    "id": "Y3rRDZqh7KL7",
    "outputId": "cdcf385b-1563-4f0b-adc8-e4b1377c38ef"
   },
   "outputs": [
    {
     "name": "stdout",
     "output_type": "stream",
     "text": [
      "{'00000': 1024}\n"
     ]
    }
   ],
   "source": [
    "print(counts)"
   ]
  },
  {
   "cell_type": "markdown",
   "metadata": {
    "id": "oKO4yvE87mGa"
   },
   "source": [
    "* In quantum computing, when measurements are performed on qubits, the result is a classical bitstring representing the state of the qubits at the time of measurement. Each '0' or '1' in the bitstring corresponds to the measurement outcome of a qubit.\n",
    "\n",
    "* The key in the dictionary, '00000', represents the result or outcome of measuring the 5 qubits in the circuit. This bitstring tells us that all five qubits were measured as '0' at the end of the circuit execution.\n",
    "\n",
    "* The value, 1024, indicates the count or frequency of occurrences of this specific measurement outcome. In quantum computation, this number represents the number of shots or executions of the circuit, in this case, 1024 runs, where all the qubits resulted in the state '0' upon measurement.\n",
    "\n",
    "* So the output '00000': 1024 implies that in all 1024 measurements performed, the circuit consistently resulted in an outcome where all five qubits were measured in the state '0'."
   ]
  }
 ],
 "metadata": {
  "colab": {
   "provenance": []
  },
  "kernelspec": {
   "display_name": "Python 3 (ipykernel)",
   "language": "python",
   "name": "python3"
  },
  "language_info": {
   "codemirror_mode": {
    "name": "ipython",
    "version": 3
   },
   "file_extension": ".py",
   "mimetype": "text/x-python",
   "name": "python",
   "nbconvert_exporter": "python",
   "pygments_lexer": "ipython3",
   "version": "3.8.18"
  }
 },
 "nbformat": 4,
 "nbformat_minor": 1
}
