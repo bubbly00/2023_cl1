{
 "cells": [
  {
   "cell_type": "markdown",
   "metadata": {},
   "source": [
    "### Implementing Quantum Teleportation algorithm in Python\n",
    "This Python script demonstrates the Quantum Teleportation algorithm using the Qiskit library. Quantum Teleportation is a fundamental concept in quantum information theory, allowing the transfer of quantum information from one qubit to another through entanglement. The algorithm involves three qubits: one held by Alice (the sender), an entangled pair shared between Alice and Bob, and the target qubit for the teleportation held by Bob (the receiver).\n",
    "\n",
    "The code begins by initializing a three-qubit quantum circuit using Qiskit. Alice prepares her qubit in a specific state by applying an X gate. An entangled pair is then created between Alice and Bob using a Hadamard gate and a controlled-X gate. The entanglement is visualized to confirm its creation.\n",
    "\n",
    "Next, Alice performs operations on her qubits, including a controlled-X gate and a Hadamard gate, followed by measuring her qubits. The measurement results are then transmitted to Bob using classical communication. Based on these results, Bob applies quantum gates (controlled-X and controlled-Z gates) to his qubits to complete the teleportation process.\n",
    "\n",
    "The code concludes by visualizing the teleportation circuit and simulating the measurement outcomes using Qiskit's Aer simulator. The measurement results are displayed and visualized using a histogram, providing insights into the successful teleportation of quantum information from Alice to Bob. This code serves as a practical example of quantum teleportation implementation using Qiskit in Python."
   ]
  },
  {
   "cell_type": "code",
   "execution_count": 1,
   "metadata": {
    "id": "V7V3E00aLBz_"
   },
   "outputs": [],
   "source": [
    "# !pip install qiskit\n",
    "# !pip install qiskit-aer"
   ]
  },
  {
   "cell_type": "code",
   "execution_count": 2,
   "metadata": {
    "id": "E35MEkOcKs73"
   },
   "outputs": [],
   "source": [
    "from qiskit import QuantumCircuit, Aer, transpile, assemble, execute\n",
    "from qiskit.visualization import plot_histogram"
   ]
  },
  {
   "cell_type": "code",
   "execution_count": 3,
   "metadata": {
    "colab": {
     "base_uri": "https://localhost:8080/"
    },
    "id": "T6w7o-JJLaF7",
    "outputId": "d9aa30b1-21fe-46af-c5dd-8a1fef45852a"
   },
   "outputs": [
    {
     "data": {
      "text/plain": [
       "<qiskit.circuit.instructionset.InstructionSet at 0x7ef0ae1bb6a0>"
      ]
     },
     "execution_count": 3,
     "metadata": {},
     "output_type": "execute_result"
    }
   ],
   "source": [
    "# Initializing the quantum circuit\n",
    "qc = QuantumCircuit(3, 3)\n",
    "\n",
    "# Alice's qubit\n",
    "qc.x(0)\n",
    "# Creating an entangled pair between Alice (qubit 1) and Bob (qubit 2)\n",
    "qc.h(1)\n",
    "qc.cx(1, 2)"
   ]
  },
  {
   "cell_type": "code",
   "execution_count": 4,
   "metadata": {
    "colab": {
     "base_uri": "https://localhost:8080/"
    },
    "id": "o5WY5GxHLe9L",
    "outputId": "9cb8a35a-bb36-476e-a3c5-55651960a861"
   },
   "outputs": [
    {
     "name": "stdout",
     "output_type": "stream",
     "text": [
      "Entangled pair created between Alice and Bob:\n"
     ]
    }
   ],
   "source": [
    "# Entangled pair visualization\n",
    "print(\"Entangled pair created between Alice and Bob:\")"
   ]
  },
  {
   "cell_type": "code",
   "execution_count": 5,
   "metadata": {
    "colab": {
     "base_uri": "https://localhost:8080/"
    },
    "id": "WV3X648qLcx1",
    "outputId": "5808c415-42c4-4b09-adfb-56f828cf7ca2"
   },
   "outputs": [
    {
     "data": {
      "text/plain": [
       "<qiskit.circuit.instructionset.InstructionSet at 0x7ef0ae1bbc40>"
      ]
     },
     "execution_count": 5,
     "metadata": {},
     "output_type": "execute_result"
    }
   ],
   "source": [
    "# Alice applies a controlled-X gate between her qubits\n",
    "qc.cx(0, 1)\n",
    "# Alice applies a Hadamard gate to the first qubit\n",
    "qc.h(0)\n",
    "# Measure the two qubits Alice has\n",
    "qc.measure([0, 1], [0, 1])"
   ]
  },
  {
   "cell_type": "code",
   "execution_count": 6,
   "metadata": {
    "colab": {
     "base_uri": "https://localhost:8080/"
    },
    "id": "iZwhxwqCL_uP",
    "outputId": "6b108ffe-2e41-4b84-c179-3685dc41df16"
   },
   "outputs": [
    {
     "data": {
      "text/plain": [
       "<qiskit.circuit.instructionset.InstructionSet at 0x7ef0ae1bae60>"
      ]
     },
     "execution_count": 6,
     "metadata": {},
     "output_type": "execute_result"
    }
   ],
   "source": [
    "# Bob applies gates according to the classical bits received from Alice\n",
    "qc.cx(1, 2)\n",
    "qc.cz(0, 2)"
   ]
  },
  {
   "cell_type": "code",
   "execution_count": 7,
   "metadata": {
    "colab": {
     "base_uri": "https://localhost:8080/"
    },
    "id": "JCNvQsgBLjBO",
    "outputId": "be8aa729-3cce-4f99-cd83-03581a06d8f4"
   },
   "outputs": [
    {
     "name": "stdout",
     "output_type": "stream",
     "text": [
      "Teleportation circuit:\n",
      "     ┌───┐          ┌───┐┌─┐        \n",
      "q_0: ┤ X ├───────■──┤ H ├┤M├──────■─\n",
      "     ├───┤     ┌─┴─┐└┬─┬┘└╥┘      │ \n",
      "q_1: ┤ H ├──■──┤ X ├─┤M├──╫───■───┼─\n",
      "     └───┘┌─┴─┐└───┘ └╥┘  ║ ┌─┴─┐ │ \n",
      "q_2: ─────┤ X ├───────╫───╫─┤ X ├─■─\n",
      "          └───┘       ║   ║ └───┘   \n",
      "c: 3/═════════════════╩═══╩═════════\n",
      "                      1   0         \n"
     ]
    }
   ],
   "source": [
    "# Visualizing the teleportation circuit\n",
    "print(\"Teleportation circuit:\")\n",
    "print(qc)"
   ]
  },
  {
   "cell_type": "code",
   "execution_count": 8,
   "metadata": {
    "id": "SkKB70AnLk6m"
   },
   "outputs": [],
   "source": [
    "# Using the Aer qasm_simulator backend\n",
    "simulator = Aer.get_backend('qasm_simulator')\n",
    "job = execute(qc, simulator, shots=1024)\n",
    "result = job.result()\n",
    "counts = result.get_counts(qc)"
   ]
  },
  {
   "cell_type": "code",
   "execution_count": 9,
   "metadata": {
    "colab": {
     "base_uri": "https://localhost:8080/",
     "height": 507
    },
    "id": "M5gxtbHeL0bj",
    "outputId": "1c3dd7c0-109a-4171-833a-65fae6d746f2"
   },
   "outputs": [
    {
     "name": "stdout",
     "output_type": "stream",
     "text": [
      "Measurement results:\n",
      "{'001': 270, '010': 232, '000': 252, '011': 270}\n"
     ]
    },
    {
     "data": {
      "image/png": "[encoded data removed]",
      "text/plain": [
       "<Figure size 700x500 with 1 Axes>"
      ]
     },
     "execution_count": 9,
     "metadata": {},
     "output_type": "execute_result"
    }
   ],
   "source": [
    "# Displaying the measurement results\n",
    "print(\"Measurement results:\")\n",
    "print(counts)\n",
    "plot_histogram(counts)"
   ]
  }
 ],
 "metadata": {
  "colab": {
   "provenance": []
  },
  "kernelspec": {
   "display_name": "Python 3 (ipykernel)",
   "language": "python",
   "name": "python3"
  },
  "language_info": {
   "codemirror_mode": {
    "name": "ipython",
    "version": 3
   },
   "file_extension": ".py",
   "mimetype": "text/x-python",
   "name": "python",
   "nbconvert_exporter": "python",
   "pygments_lexer": "ipython3",
   "version": "3.8.18"
  }
 },
 "nbformat": 4,
 "nbformat_minor": 1
}
